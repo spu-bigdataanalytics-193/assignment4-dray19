{
 "cells": [
  {
   "cell_type": "markdown",
   "metadata": {},
   "source": [
    "### Import Pyspark"
   ]
  },
  {
   "cell_type": "code",
   "execution_count": 1,
   "metadata": {},
   "outputs": [],
   "source": [
    "import pyspark \n",
    "sc = pyspark.SparkContext('local[*]')"
   ]
  },
  {
   "cell_type": "markdown",
   "metadata": {},
   "source": [
    "### Load Data"
   ]
  },
  {
   "cell_type": "code",
   "execution_count": 4,
   "metadata": {},
   "outputs": [
    {
     "name": "stdout",
     "output_type": "stream",
     "text": [
      "CPU times: user 0 ns, sys: 0 ns, total: 0 ns\n",
      "Wall time: 137 ms\n"
     ]
    },
    {
     "data": {
      "text/plain": [
       "['Year,Month,DayofMonth,DayOfWeek,DepTime,CRSDepTime,ArrTime,CRSArrTime,UniqueCarrier,FlightNum,TailNum,ActualElapsedTime,CRSElapsedTime,AirTime,ArrDelay,DepDelay,Origin,Dest,Distance,TaxiIn,TaxiOut,Cancelled,CancellationCode,Diverted,CarrierDelay,WeatherDelay,NASDelay,SecurityDelay,LateAircraftDelay',\n",
       " '1990,1,3,3,1707,1630,1755,1723,US,29,NA,48,53,NA,32,37,CMH,IND,182,NA,NA,0,NA,0,NA,NA,NA,NA,NA',\n",
       " '1990,1,4,4,1706,1630,1807,1723,US,29,NA,61,53,NA,44,36,CMH,IND,182,NA,NA,0,NA,0,NA,NA,NA,NA,NA']"
      ]
     },
     "execution_count": 4,
     "metadata": {},
     "output_type": "execute_result"
    }
   ],
   "source": [
    "%%time\n",
    "data = sc.textFile('*.csv.bz2')\n",
    "data.take(3)"
   ]
  },
  {
   "cell_type": "markdown",
   "metadata": {},
   "source": [
    "### Mapping"
   ]
  },
  {
   "cell_type": "code",
   "execution_count": 6,
   "metadata": {},
   "outputs": [
    {
     "name": "stdout",
     "output_type": "stream",
     "text": [
      "CPU times: user 0 ns, sys: 10 ms, total: 10 ms\n",
      "Wall time: 141 ms\n"
     ]
    },
    {
     "data": {
      "text/plain": [
       "['US', 'US', 'US', 'US', 'US', 'US', 'US', 'US', 'US', 'US']"
      ]
     },
     "execution_count": 6,
     "metadata": {},
     "output_type": "execute_result"
    }
   ],
   "source": [
    "%%time\n",
    "rdd1 = data.map(lambda x: x.split(',')[8]).filter(lambda x : 'UniqueCarrier' not in x)\n",
    "rdd1.take(10)"
   ]
  },
  {
   "cell_type": "code",
   "execution_count": 7,
   "metadata": {},
   "outputs": [
    {
     "data": {
      "text/plain": [
       "[('US', 1), ('US', 1), ('US', 1)]"
      ]
     },
     "execution_count": 7,
     "metadata": {},
     "output_type": "execute_result"
    }
   ],
   "source": [
    "rdd2 = rdd1.map(lambda x:(x,1))\n",
    "rdd2.take(3)"
   ]
  },
  {
   "cell_type": "markdown",
   "metadata": {},
   "source": [
    "### Shuffling & Reducing"
   ]
  },
  {
   "cell_type": "code",
   "execution_count": 9,
   "metadata": {},
   "outputs": [
    {
     "name": "stdout",
     "output_type": "stream",
     "text": [
      "CPU times: user 80 ms, sys: 30 ms, total: 110 ms\n",
      "Wall time: 10min 18s\n"
     ]
    },
    {
     "data": {
      "text/plain": [
       "[('MQ', 3954895),\n",
       " ('PI', 873957),\n",
       " ('XE', 2350309),\n",
       " ('AQ', 154381),\n",
       " ('AA', 14984647),\n",
       " ('PS', 83617),\n",
       " ('AS', 2878021),\n",
       " ('DL', 16547870),\n",
       " ('UA', 13299817),\n",
       " ('FL', 1265138),\n",
       " ('NW', 10292627),\n",
       " ('DH', 693047),\n",
       " ('EA', 919785),\n",
       " ('HA', 274265),\n",
       " ('F9', 336958),\n",
       " ('WN', 15976022),\n",
       " ('PA (1)', 316167),\n",
       " ('US', 14075530),\n",
       " ('HP', 3636682),\n",
       " ('CO', 8145788),\n",
       " ('OO', 3090853),\n",
       " ('OH', 1464176),\n",
       " ('TZ', 208420),\n",
       " ('B6', 811341),\n",
       " ('ML (1)', 70622),\n",
       " ('TW', 3757747),\n",
       " ('EV', 1697172),\n",
       " ('YV', 854056),\n",
       " ('9E', 521059)]"
      ]
     },
     "execution_count": 9,
     "metadata": {},
     "output_type": "execute_result"
    }
   ],
   "source": [
    "%%time\n",
    "rdd4 = rdd2.reduceByKey(lambda x,y: x+y)\n",
    "rdd4.take(30)"
   ]
  },
  {
   "cell_type": "code",
   "execution_count": null,
   "metadata": {},
   "outputs": [],
   "source": []
  },
  {
   "cell_type": "code",
   "execution_count": null,
   "metadata": {},
   "outputs": [],
   "source": []
  }
 ],
 "metadata": {
  "kernelspec": {
   "display_name": "Python 3",
   "language": "python",
   "name": "python3"
  },
  "language_info": {
   "codemirror_mode": {
    "name": "ipython",
    "version": 3
   },
   "file_extension": ".py",
   "mimetype": "text/x-python",
   "name": "python",
   "nbconvert_exporter": "python",
   "pygments_lexer": "ipython3",
   "version": "3.7.3"
  }
 },
 "nbformat": 4,
 "nbformat_minor": 2
}
