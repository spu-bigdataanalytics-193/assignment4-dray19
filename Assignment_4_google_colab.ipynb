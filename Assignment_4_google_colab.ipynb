{
  "nbformat": 4,
  "nbformat_minor": 0,
  "metadata": {
    "colab": {
      "name": "Assignment_4_google_colab.ipynb",
      "provenance": [],
      "collapsed_sections": [],
      "toc_visible": true
    },
    "kernelspec": {
      "name": "python3",
      "display_name": "Python 3"
    }
  },
  "cells": [
    {
      "cell_type": "code",
      "metadata": {
        "id": "LtAtc2eSpQxh",
        "colab_type": "code",
        "colab": {}
      },
      "source": [
        "# install java libs and spark.\n",
        "! apt-get install openjdk-8-jdk-headless -qq > /dev/null\n",
        "! wget -q https://www-us.apache.org/dist/spark/spark-2.4.4/spark-2.4.4-bin-hadoop2.7.tgz\n",
        "! tar xf spark-2.4.4-bin-hadoop2.7.tgz\n",
        "! pip install -q findspark\n",
        "import os\n",
        "os.environ[\"JAVA_HOME\"] = \"/usr/lib/jvm/java-8-openjdk-amd64\"\n",
        "os.environ[\"SPARK_HOME\"] = \"/content/spark-2.4.4-bin-hadoop2.7\""
      ],
      "execution_count": 0,
      "outputs": []
    },
    {
      "cell_type": "markdown",
      "metadata": {
        "id": "NoLH0gkdJgqE",
        "colab_type": "text"
      },
      "source": [
        "### Mount Google Drive"
      ]
    },
    {
      "cell_type": "code",
      "metadata": {
        "id": "iehlDWepstFm",
        "colab_type": "code",
        "outputId": "cfe409c3-bbda-4fea-d8a7-0597ab615548",
        "colab": {
          "base_uri": "https://localhost:8080/",
          "height": 122
        }
      },
      "source": [
        "from google.colab import drive\n",
        "drive.mount('/content/drive')"
      ],
      "execution_count": 2,
      "outputs": [
        {
          "output_type": "stream",
          "text": [
            "Go to this URL in a browser: https://accounts.google.com/o/oauth2/auth?client_id=947318989803-6bn6qk8qdgf4n4g3pfee6491hc0brc4i.apps.googleusercontent.com&redirect_uri=urn%3aietf%3awg%3aoauth%3a2.0%3aoob&response_type=code&scope=email%20https%3a%2f%2fwww.googleapis.com%2fauth%2fdocs.test%20https%3a%2f%2fwww.googleapis.com%2fauth%2fdrive%20https%3a%2f%2fwww.googleapis.com%2fauth%2fdrive.photos.readonly%20https%3a%2f%2fwww.googleapis.com%2fauth%2fpeopleapi.readonly\n",
            "\n",
            "Enter your authorization code:\n",
            "··········\n",
            "Mounted at /content/drive\n"
          ],
          "name": "stdout"
        }
      ]
    },
    {
      "cell_type": "markdown",
      "metadata": {
        "id": "qro4y0PCJ6Pm",
        "colab_type": "text"
      },
      "source": [
        "### Install pyspark"
      ]
    },
    {
      "cell_type": "code",
      "metadata": {
        "id": "0CcdcjVS80HD",
        "colab_type": "code",
        "colab": {}
      },
      "source": [
        "#pip install pyspark"
      ],
      "execution_count": 0,
      "outputs": []
    },
    {
      "cell_type": "code",
      "metadata": {
        "id": "8gMlK-tuxllu",
        "colab_type": "code",
        "colab": {}
      },
      "source": [
        "from pyspark import SparkContext\n",
        "from pyspark.sql import SparkSession\n",
        "\n",
        "APP_NAME = \"Counting_Carriers\"\n",
        "SPARK_URL = \"local[*]\""
      ],
      "execution_count": 0,
      "outputs": []
    },
    {
      "cell_type": "markdown",
      "metadata": {
        "id": "qLR7SKBSyYHM",
        "colab_type": "text"
      },
      "source": [
        "### Connect to the Spark server"
      ]
    },
    {
      "cell_type": "code",
      "metadata": {
        "id": "Mf2gX-aHudSy",
        "colab_type": "code",
        "colab": {}
      },
      "source": [
        "spark = SparkSession.builder.appName(APP_NAME).master(SPARK_URL).getOrCreate()"
      ],
      "execution_count": 0,
      "outputs": []
    },
    {
      "cell_type": "markdown",
      "metadata": {
        "id": "UydlDGhOTdAx",
        "colab_type": "text"
      },
      "source": [
        "### Loading Data"
      ]
    },
    {
      "cell_type": "code",
      "metadata": {
        "id": "-Yiv9IMnC-rk",
        "colab_type": "code",
        "outputId": "20014966-3446-451f-b049-9bd9068f06ad",
        "colab": {
          "base_uri": "https://localhost:8080/",
          "height": 71
        }
      },
      "source": [
        "sc = spark.sparkContext\n",
        "rdd = sc.textFile('/content/drive/My Drive/data_BD/*.csv.bz2')\n",
        "rdd.take(2)"
      ],
      "execution_count": 3,
      "outputs": [
        {
          "output_type": "execute_result",
          "data": {
            "text/plain": [
              "['Year,Month,DayofMonth,DayOfWeek,DepTime,CRSDepTime,ArrTime,CRSArrTime,UniqueCarrier,FlightNum,TailNum,ActualElapsedTime,CRSElapsedTime,AirTime,ArrDelay,DepDelay,Origin,Dest,Distance,TaxiIn,TaxiOut,Cancelled,CancellationCode,Diverted,CarrierDelay,WeatherDelay,NASDelay,SecurityDelay,LateAircraftDelay',\n",
              " '1987,10,14,3,741,730,912,849,PS,1451,NA,91,79,NA,23,11,SAN,SFO,447,NA,NA,0,NA,0,NA,NA,NA,NA,NA']"
            ]
          },
          "metadata": {
            "tags": []
          },
          "execution_count": 3
        }
      ]
    },
    {
      "cell_type": "markdown",
      "metadata": {
        "id": "Kvj1ab5pTprb",
        "colab_type": "text"
      },
      "source": [
        "### Mapping"
      ]
    },
    {
      "cell_type": "code",
      "metadata": {
        "id": "W2VR9NXvLCMT",
        "colab_type": "code",
        "outputId": "f303ab05-20a8-477a-8672-c2e5b490b48a",
        "colab": {
          "base_uri": "https://localhost:8080/",
          "height": 34
        }
      },
      "source": [
        "rdd1 = rdd.map(lambda x: x.split(',')[8]).filter(lambda x : 'UniqueCarrier' not in x)\n",
        "rdd1.take(10)"
      ],
      "execution_count": 4,
      "outputs": [
        {
          "output_type": "execute_result",
          "data": {
            "text/plain": [
              "['PS', 'PS', 'PS', 'PS', 'PS', 'PS', 'PS', 'PS', 'PS', 'PS']"
            ]
          },
          "metadata": {
            "tags": []
          },
          "execution_count": 4
        }
      ]
    },
    {
      "cell_type": "code",
      "metadata": {
        "id": "19PsQZk8D2QH",
        "colab_type": "code",
        "outputId": "9afadf10-6099-49d6-8c3d-e00ea3e87e01",
        "colab": {
          "base_uri": "https://localhost:8080/",
          "height": 34
        }
      },
      "source": [
        "rdd2 = rdd1.map(lambda x:(x,1))\n",
        "rdd2.take(3)"
      ],
      "execution_count": 5,
      "outputs": [
        {
          "output_type": "execute_result",
          "data": {
            "text/plain": [
              "[('PS', 1), ('PS', 1), ('PS', 1)]"
            ]
          },
          "metadata": {
            "tags": []
          },
          "execution_count": 5
        }
      ]
    },
    {
      "cell_type": "markdown",
      "metadata": {
        "id": "FynP73odTva-",
        "colab_type": "text"
      },
      "source": [
        "### Shuffling & Reducing"
      ]
    },
    {
      "cell_type": "code",
      "metadata": {
        "id": "tZFxkRtRG7uW",
        "colab_type": "code",
        "outputId": "3546b198-ea64-4f95-9c62-dd88a1b0b9dd",
        "colab": {
          "base_uri": "https://localhost:8080/",
          "height": 510
        }
      },
      "source": [
        "rdd4 = rdd2.reduceByKey(lambda x,y: x+y)\n",
        "rdd4.take(30)"
      ],
      "execution_count": 7,
      "outputs": [
        {
          "output_type": "execute_result",
          "data": {
            "text/plain": [
              "[('MQ', 3954895),\n",
              " ('PI', 873957),\n",
              " ('XE', 2350309),\n",
              " ('AQ', 154381),\n",
              " ('AA', 14984647),\n",
              " ('PS', 83617),\n",
              " ('AS', 2878021),\n",
              " ('DL', 16547870),\n",
              " ('UA', 13299817),\n",
              " ('FL', 1265138),\n",
              " ('NW', 10292627),\n",
              " ('DH', 693047),\n",
              " ('EA', 919785),\n",
              " ('HA', 274265),\n",
              " ('F9', 336958),\n",
              " ('WN', 15976022),\n",
              " ('PA (1)', 316167),\n",
              " ('US', 14075530),\n",
              " ('HP', 3636682),\n",
              " ('CO', 8145788),\n",
              " ('OO', 3090853),\n",
              " ('TZ', 208420),\n",
              " ('B6', 811341),\n",
              " ('OH', 1464176),\n",
              " ('ML (1)', 70622),\n",
              " ('TW', 3757747),\n",
              " ('EV', 1697172),\n",
              " ('YV', 854056),\n",
              " ('9E', 521059)]"
            ]
          },
          "metadata": {
            "tags": []
          },
          "execution_count": 7
        }
      ]
    },
    {
      "cell_type": "code",
      "metadata": {
        "id": "nMjAhUdOz1MO",
        "colab_type": "code",
        "colab": {}
      },
      "source": [
        ""
      ],
      "execution_count": 0,
      "outputs": []
    }
  ]
}